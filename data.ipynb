{
  "cells": [
    {
      "cell_type": "raw",
      "metadata": {},
      "source": [
        "---\n",
        "title: \"Data\"\n",
        "---"
      ],
      "id": "8698f5fc"
    },
    {
      "cell_type": "markdown",
      "metadata": {},
      "source": [
        "```{b  {r}\n",
        "\n",
        "# we didnt need any preprocessing since our data doesnt have any NA values\n",
        "\n",
        "# we imported data by selecting file>import dataset\n",
        "\n",
        "\n",
        "\n",
        "summary(data)\n",
        "\n",
        "```\n",
        "\n",
        "```{a {r}\n",
        "head(data)\n",
        "```"
      ],
      "id": "ca862f75"
    }
  ],
  "metadata": {
    "kernelspec": {
      "display_name": "Python 3",
      "language": "python",
      "name": "python3"
    }
  },
  "nbformat": 4,
  "nbformat_minor": 5
}