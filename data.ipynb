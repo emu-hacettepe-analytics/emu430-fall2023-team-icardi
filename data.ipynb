{
  "cells": [
    {
      "cell_type": "raw",
      "metadata": {},
      "source": [
        "---\n",
        "title: \"Data\"\n",
        "---"
      ],
      "id": "63bdef93"
    },
    {
      "cell_type": "markdown",
      "metadata": {},
      "source": [
        "\\[Data source\\] ([Football teams \\| Rankings \\| Stats (kaggle.com)](https://www.kaggle.com/datasets/varpit94/football-teams-rankings-stats/))\n",
        "\n",
        "\n",
        "```{a {r}\n",
        "\n",
        "\n",
        "# we didnt need any preprocessing since our data doesnt have any NA values\n",
        "\n",
        "# we imported data by selecting file>import dataset\n",
        "\n",
        "\n",
        "\n",
        "summary(data)\n",
        "\n",
        "\n",
        "\n",
        "\n",
        "```\n",
        "\n",
        "\n",
        "head\n",
        "\n",
        "```{b{r}\n",
        "head(data)\n",
        "```"
      ],
      "id": "0dad93ff"
    }
  ],
  "metadata": {
    "kernelspec": {
      "display_name": "Python 3",
      "language": "python",
      "name": "python3"
    }
  },
  "nbformat": 4,
  "nbformat_minor": 5
}