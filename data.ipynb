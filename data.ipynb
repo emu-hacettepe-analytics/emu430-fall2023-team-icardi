{
  "cells": [
    {
      "cell_type": "raw",
      "metadata": {},
      "source": [
        "---\n",
        "title: \"Data\"\n",
        "---"
      ],
      "id": "d682dd25"
    },
    {
      "cell_type": "markdown",
      "metadata": {},
      "source": [
        "```{b  {r}\n",
        "\n",
        "# we didnt need any preprocessing since our data doesnt have any NA values.\n",
        "\n",
        "# we imported data by selecting file>import dataset\n",
        "\n",
        "\n",
        "\n",
        "summary(data)\n",
        "\n",
        "```\n",
        "\n",
        "```{a {r}\n",
        "head(data)\n",
        "```"
      ],
      "id": "f7f059af"
    }
  ],
  "metadata": {
    "kernelspec": {
      "display_name": "Python 3",
      "language": "python",
      "name": "python3"
    }
  },
  "nbformat": 4,
  "nbformat_minor": 5
}